{
 "cells": [
  {
   "cell_type": "markdown",
   "metadata": {},
   "source": [
    "# Eigenvalues of the Hubbard Model T-V Hamiltonian for a spinless fermion with L = 3 sites and periodic boundary conditions\n",
    "\n",
    "$\\hat{H}|\\psi> = E |\\psi>$\n",
    "\n",
    "$\\hat{H} = \\hat{T} + \\hat{V}$\n",
    "\n",
    "$\\hat{T} = -t\\sum_{i=1}^L c^\\dagger_{i+1}c_i$\n",
    "\n",
    "$\\hat{V} = v\\sum_{I=1}^L n_i n_{i+1}$"
   ]
  },
  {
   "cell_type": "markdown",
   "metadata": {},
   "source": [
    "## Use SymPy for symbolic linear algebra\n",
    "\n",
    "The following cell contains provides a sample of the SymPy formatting taken from the tutorial at [this link](https://docs.sympy.org/latest/tutorial/preliminaries.html#exercises)"
   ]
  },
  {
   "cell_type": "code",
   "execution_count": 1,
   "metadata": {},
   "outputs": [],
   "source": [
    "# from sympy import *\n",
    "# x = symbols('x')\n",
    "# a = Integral(cos(x)*exp(x), x)\n",
    "# Eq(a, a.doit())\n",
    "# Eq(Integral(exp(x)*cos(x), x), exp(x)*sin(x)/2 + exp(x)*cos(x)/2)"
   ]
  },
  {
   "cell_type": "code",
   "execution_count": 2,
   "metadata": {},
   "outputs": [],
   "source": [
    "from sympy import *\n",
    "init_printing(use_unicode=True) # for printing Matrices: Matrix(H)"
   ]
  },
  {
   "cell_type": "code",
   "execution_count": 3,
   "metadata": {},
   "outputs": [],
   "source": [
    "# create symbolic hopping and potential energy terms\n",
    "t = symbols('t')\n",
    "v = symbols('v')"
   ]
  },
  {
   "cell_type": "code",
   "execution_count": 4,
   "metadata": {},
   "outputs": [],
   "source": [
    "# initialize kinetic and potential energy operators\n",
    "T = zeros(8, 8)\n",
    "V = zeros(8, 8)"
   ]
  },
  {
   "cell_type": "markdown",
   "metadata": {},
   "source": [
    "## Create kinetic energy operator\n",
    "\n",
    "$\\hat{T} = -t(c_2^\\dagger c_1 + c_3^\\dagger c_2 + c_1^\\dagger c_3)$\n",
    "\n",
    "In the code: $c_l^\\dagger c_k(basis) = basis - 2^{L-k} + 2^{L-l}$, where $(basis = 1) \\equiv |1 > \\equiv |1 1 1 >$"
   ]
  },
  {
   "cell_type": "code",
   "execution_count": 7,
   "metadata": {},
   "outputs": [],
   "source": [
    "# initialize l, k, and basis vector\n",
    "l = 0\n",
    "k = 0\n",
    "basis = 0\n",
    "\n",
    "# L = 3 sites\n",
    "L = 3"
   ]
  },
  {
   "cell_type": "code",
   "execution_count": null,
   "metadata": {},
   "outputs": [],
   "source": []
  }
 ],
 "metadata": {
  "kernelspec": {
   "display_name": "Python 3",
   "language": "python",
   "name": "python3"
  },
  "language_info": {
   "codemirror_mode": {
    "name": "ipython",
    "version": 3
   },
   "file_extension": ".py",
   "mimetype": "text/x-python",
   "name": "python",
   "nbconvert_exporter": "python",
   "pygments_lexer": "ipython3",
   "version": "3.8.1"
  }
 },
 "nbformat": 4,
 "nbformat_minor": 4
}

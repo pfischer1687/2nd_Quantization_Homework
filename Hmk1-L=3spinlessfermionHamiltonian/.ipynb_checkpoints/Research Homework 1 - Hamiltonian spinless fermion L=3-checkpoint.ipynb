{
 "cells": [
  {
   "cell_type": "markdown",
   "metadata": {},
   "source": [
    "# Eigenvalues of the Hubbard Model T-V Hamiltonian for a spinless fermion with L = 3 sites and periodic boundary conditions\n",
    "\n",
    "$\\hat{H}|\\psi> = E |\\psi>$\n",
    "\n",
    "$\\hat{H} = \\hat{T} + \\hat{V}$\n",
    "\n",
    "$\\hat{T} = -t\\sum_{i=1}^L c^\\dagger_{i+1}c_i$\n",
    "\n",
    "$\\hat{V} = v\\sum_{I=1}^L n_i n_{i+1}$"
   ]
  },
  {
   "cell_type": "markdown",
   "metadata": {},
   "source": [
    "## Use SymPy for symbolic linear algebra\n",
    "\n",
    "The following cell contains provides a sample of the SymPy formatting taken from the tutorial at [this link](https://docs.sympy.org/latest/tutorial/preliminaries.html#exercises)"
   ]
  },
  {
   "cell_type": "code",
   "execution_count": 4,
   "metadata": {},
   "outputs": [],
   "source": [
    "# from sympy import *\n",
    "# x = symbols('x')\n",
    "# a = Integral(cos(x)*exp(x), x)\n",
    "# Eq(a, a.doit())\n",
    "# Eq(Integral(exp(x)*cos(x), x), exp(x)*sin(x)/2 + exp(x)*cos(x)/2)"
   ]
  },
  {
   "cell_type": "code",
   "execution_count": 5,
   "metadata": {},
   "outputs": [],
   "source": [
    "from sympy import *\n",
    "init_printing(use_unicode=True) # for printing Matrices: Matrix(H)"
   ]
  },
  {
   "cell_type": "code",
   "execution_count": 6,
   "metadata": {},
   "outputs": [],
   "source": [
    "# create symbolic hopping and potential energy terms\n",
    "t = symbols('t')\n",
    "v = symbols('v')"
   ]
  },
  {
   "cell_type": "code",
   "execution_count": 19,
   "metadata": {},
   "outputs": [],
   "source": [
    "# initialize kinetic and potential energy operators\n",
    "T = zeros(9)\n",
    "V = zeros(9)\n",
    "# T_0i, V_0i = 0; T_i0, V_i0 = 0\n",
    "# ignoring 0th row and column since math is written by hand in terms of T_ij, where i,j \\in{\\mathcal{N}}"
   ]
  },
  {
   "cell_type": "markdown",
   "metadata": {},
   "source": [
    "## Create kinetic energy operator\n",
    "\n",
    "$\\hat{T} = -t(c_2^\\dagger c_1 + c_3^\\dagger c_2 + c_1^\\dagger c_3)$\n",
    "\n",
    "In the code: $c_l^\\dagger c_k(basis[i]) = basis[i] - 2^{L-k} + 2^{L-l}$, where $basis[1] \\equiv |1 > \\equiv |1 1 1 >$"
   ]
  },
  {
   "cell_type": "code",
   "execution_count": 22,
   "metadata": {},
   "outputs": [],
   "source": [
    "# initialize l, k, phase\n",
    "l = 0\n",
    "k = 0\n",
    "phase = 0\n",
    "\n",
    "# L = 3 sites\n",
    "L = 3\n",
    "\n",
    "# create basis vector\n",
    "basis = zeros(1, 9)\n",
    "for i in range (0,8):\n",
    "    basis[i] = 8 - i\n",
    "\n",
    "# basis[1] = 111_2 = 7_10\n",
    "# basis[8] = 000_2 = 0_10"
   ]
  },
  {
   "cell_type": "markdown",
   "metadata": {},
   "source": [
    "### Break kinetic energy term into three components:\n",
    "\n",
    "$\\hat{T}_1 = c_2^\\dagger c_1$\n",
    "\n",
    "$\\hat{T}_2 = c_3^\\dagger c_2$\n",
    "\n",
    "$\\hat{T}_3 = c_1^\\dagger c_3$\n",
    "\n",
    "In code: $\\hat{T}_1 |1> \\equiv$ T_1[1]"
   ]
  },
  {
   "cell_type": "code",
   "execution_count": 28,
   "metadata": {},
   "outputs": [],
   "source": [
    "# initialize 3 kinetic energy term components\n",
    "T_1 = zeros(1,9)\n",
    "T_2 = T_1\n",
    "T_3 = T_1"
   ]
  },
  {
   "cell_type": "code",
   "execution_count": null,
   "metadata": {},
   "outputs": [],
   "source": [
    "# create array T_1 operating on each basis vector\n",
    "l = 2\n",
    "k = 1\n",
    "for basis in range (1,8):\n",
    "    # find zeros\n",
    "    if basis > 4: # for T_1 = c_2^\\dagger c_1, any basis with n_1 = 0 will have 0 kinetic energy\n",
    "        T_1[basis] = 0\n",
    "        continue\n",
    "    if basis : # for T_1 = c_2^\\dagger c_1, any basis with n_2 = 1 will have 0 kinetic energy\n",
    "        T_1[basis] = 0\n",
    "        continue\n",
    "    # find phase\n",
    "    if condition:\n",
    "        phase = 0\n",
    "    T_1[basis] = (-1)**phase * ( basis - 2**(L-k) + 2**(L-l) )\n",
    "    "
   ]
  }
 ],
 "metadata": {
  "kernelspec": {
   "display_name": "Python 3",
   "language": "python",
   "name": "python3"
  },
  "language_info": {
   "codemirror_mode": {
    "name": "ipython",
    "version": 3
   },
   "file_extension": ".py",
   "mimetype": "text/x-python",
   "name": "python",
   "nbconvert_exporter": "python",
   "pygments_lexer": "ipython3",
   "version": "3.8.1"
  }
 },
 "nbformat": 4,
 "nbformat_minor": 4
}
